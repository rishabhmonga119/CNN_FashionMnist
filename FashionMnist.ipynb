{
  "nbformat": 4,
  "nbformat_minor": 0,
  "metadata": {
    "colab": {
      "name": "FashionMnist.ipynb",
      "provenance": [],
      "authorship_tag": "ABX9TyNjcyIntc4ZHKjw7evWzP9g",
      "include_colab_link": true
    },
    "kernelspec": {
      "name": "python3",
      "display_name": "Python 3"
    },
    "accelerator": "GPU"
  },
  "cells": [
    {
      "cell_type": "markdown",
      "metadata": {
        "id": "view-in-github",
        "colab_type": "text"
      },
      "source": [
        "<a href=\"https://colab.research.google.com/github/rishabhmonga119/Practice-github/blob/master/FashionMnist.ipynb\" target=\"_parent\"><img src=\"https://colab.research.google.com/assets/colab-badge.svg\" alt=\"Open In Colab\"/></a>"
      ]
    },
    {
      "cell_type": "code",
      "metadata": {
        "id": "karCRVmhJjPd",
        "colab_type": "code",
        "colab": {
          "base_uri": "https://localhost:8080/",
          "height": 99
        },
        "outputId": "93be7a2c-609d-4ef9-87ad-e3d131a259b8"
      },
      "source": [
        "import keras\n",
        "import tensorflow as tf\n",
        "print(tf.__version__)"
      ],
      "execution_count": 2,
      "outputs": [
        {
          "output_type": "stream",
          "text": [
            "Using TensorFlow backend.\n"
          ],
          "name": "stderr"
        },
        {
          "output_type": "display_data",
          "data": {
            "text/html": [
              "<p style=\"color: red;\">\n",
              "The default version of TensorFlow in Colab will soon switch to TensorFlow 2.x.<br>\n",
              "We recommend you <a href=\"https://www.tensorflow.org/guide/migrate\" target=\"_blank\">upgrade</a> now \n",
              "or ensure your notebook will continue to use TensorFlow 1.x via the <code>%tensorflow_version 1.x</code> magic:\n",
              "<a href=\"https://colab.research.google.com/notebooks/tensorflow_version.ipynb\" target=\"_blank\">more info</a>.</p>\n"
            ],
            "text/plain": [
              "<IPython.core.display.HTML object>"
            ]
          },
          "metadata": {
            "tags": []
          }
        },
        {
          "output_type": "stream",
          "text": [
            "1.15.0\n"
          ],
          "name": "stdout"
        }
      ]
    },
    {
      "cell_type": "code",
      "metadata": {
        "id": "VkOhv4fsJx47",
        "colab_type": "code",
        "colab": {
          "base_uri": "https://localhost:8080/",
          "height": 156
        },
        "outputId": "cc847a66-666e-4a4d-fe85-4468c0b59599"
      },
      "source": [
        "mnist = tf.keras.datasets.fashion_mnist\n",
        "(training_images, training_labels), (test_images, test_labels) = mnist.load_data()"
      ],
      "execution_count": 3,
      "outputs": [
        {
          "output_type": "stream",
          "text": [
            "Downloading data from https://storage.googleapis.com/tensorflow/tf-keras-datasets/train-labels-idx1-ubyte.gz\n",
            "32768/29515 [=================================] - 0s 0us/step\n",
            "Downloading data from https://storage.googleapis.com/tensorflow/tf-keras-datasets/train-images-idx3-ubyte.gz\n",
            "26427392/26421880 [==============================] - 0s 0us/step\n",
            "Downloading data from https://storage.googleapis.com/tensorflow/tf-keras-datasets/t10k-labels-idx1-ubyte.gz\n",
            "8192/5148 [===============================================] - 0s 0us/step\n",
            "Downloading data from https://storage.googleapis.com/tensorflow/tf-keras-datasets/t10k-images-idx3-ubyte.gz\n",
            "4423680/4422102 [==============================] - 0s 0us/step\n"
          ],
          "name": "stdout"
        }
      ]
    },
    {
      "cell_type": "code",
      "metadata": {
        "id": "7zsNkphGJ8gy",
        "colab_type": "code",
        "colab": {}
      },
      "source": [
        "training_images=training_images.reshape(60000, 28, 28, 1)\n",
        "training_images=training_images / 255.0\n",
        "test_images = test_images.reshape(10000, 28, 28, 1)\n",
        "test_images=test_images/255.0"
      ],
      "execution_count": 0,
      "outputs": []
    },
    {
      "cell_type": "code",
      "metadata": {
        "id": "9Sos9QBlKHEa",
        "colab_type": "code",
        "colab": {}
      },
      "source": [
        "class myCallbacks(keras.callbacks.Callback):\n",
        "  def on_epoch_end(self, epoch, logs={}):\n",
        "    if (logs.get('acc')>0.99):\n",
        "      print('\\nReached 99.0% accuracy, so cancelling training!')\n",
        "      self.model.stop_training=True"
      ],
      "execution_count": 0,
      "outputs": []
    },
    {
      "cell_type": "code",
      "metadata": {
        "id": "gicBjkTHK4cz",
        "colab_type": "code",
        "colab": {
          "base_uri": "https://localhost:8080/",
          "height": 659
        },
        "outputId": "ecf024cd-a391-411c-cc1f-7681eb9a7a1d"
      },
      "source": [
        "callbacks = myCallbacks()\n",
        "model = tf.keras.models.Sequential([\n",
        "        tf.keras.layers.Conv2D(64,(3,3),activation = 'relu', input_shape = (28,28,1)),\n",
        "        tf.keras.layers.MaxPooling2D(2,2),\n",
        "        tf.keras.layers.Flatten(),\n",
        "        tf.keras.layers.Dense(128, activation='relu'),\n",
        "        tf.keras.layers.Dense(10, activation='softmax')\n",
        "])\n",
        "model.compile(optimizer='adam', loss='sparse_categorical_crossentropy', metrics=['accuracy'])\n",
        "model.fit(training_images, training_labels, epochs =20, callbacks = [callbacks])\n",
        "test_loss, test_acc = model.evaluate(test_images, test_labels)\n",
        "print(test_acc)"
      ],
      "execution_count": 11,
      "outputs": [
        {
          "output_type": "stream",
          "text": [
            "Train on 60000 samples\n",
            "Epoch 1/20\n",
            "60000/60000 [==============================] - 5s 91us/sample - loss: 0.3745 - acc: 0.8658\n",
            "Epoch 2/20\n",
            "60000/60000 [==============================] - 5s 87us/sample - loss: 0.2507 - acc: 0.9077\n",
            "Epoch 3/20\n",
            "60000/60000 [==============================] - 5s 86us/sample - loss: 0.2044 - acc: 0.9249\n",
            "Epoch 4/20\n",
            "60000/60000 [==============================] - 5s 90us/sample - loss: 0.1723 - acc: 0.9369\n",
            "Epoch 5/20\n",
            "60000/60000 [==============================] - 5s 87us/sample - loss: 0.1451 - acc: 0.9466\n",
            "Epoch 6/20\n",
            "60000/60000 [==============================] - 5s 86us/sample - loss: 0.1211 - acc: 0.9553\n",
            "Epoch 7/20\n",
            "60000/60000 [==============================] - 5s 87us/sample - loss: 0.0992 - acc: 0.9634\n",
            "Epoch 8/20\n",
            "60000/60000 [==============================] - 5s 89us/sample - loss: 0.0843 - acc: 0.9690\n",
            "Epoch 9/20\n",
            "60000/60000 [==============================] - 5s 85us/sample - loss: 0.0703 - acc: 0.9737\n",
            "Epoch 10/20\n",
            "60000/60000 [==============================] - 5s 89us/sample - loss: 0.0581 - acc: 0.9792\n",
            "Epoch 11/20\n",
            "60000/60000 [==============================] - 5s 88us/sample - loss: 0.0495 - acc: 0.9821\n",
            "Epoch 12/20\n",
            "60000/60000 [==============================] - 5s 86us/sample - loss: 0.0422 - acc: 0.9851\n",
            "Epoch 13/20\n",
            "60000/60000 [==============================] - 5s 89us/sample - loss: 0.0350 - acc: 0.9876\n",
            "Epoch 14/20\n",
            "60000/60000 [==============================] - 5s 88us/sample - loss: 0.0324 - acc: 0.9885\n",
            "Epoch 15/20\n",
            "60000/60000 [==============================] - 5s 89us/sample - loss: 0.0290 - acc: 0.9899\n",
            "Epoch 16/20\n",
            "59744/60000 [============================>.] - ETA: 0s - loss: 0.0249 - acc: 0.9913\n",
            "Reached 99.0% accuracy, so cancelling training!\n",
            "60000/60000 [==============================] - 5s 90us/sample - loss: 0.0249 - acc: 0.9913\n",
            "10000/10000 [==============================] - 0s 50us/sample - loss: 0.5066 - acc: 0.9103\n",
            "0.9103\n"
          ],
          "name": "stdout"
        }
      ]
    },
    {
      "cell_type": "code",
      "metadata": {
        "id": "uX7RRl5NLjbZ",
        "colab_type": "code",
        "colab": {}
      },
      "source": [
        ""
      ],
      "execution_count": 0,
      "outputs": []
    }
  ]
}